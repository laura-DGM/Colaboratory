{
  "nbformat": 4,
  "nbformat_minor": 0,
  "metadata": {
    "colab": {
      "provenance": [],
      "authorship_tag": "ABX9TyMFw6sJFv+32exdsglcdKLz",
      "include_colab_link": true
    },
    "kernelspec": {
      "name": "python3",
      "display_name": "Python 3"
    }
  },
  "cells": [
    {
      "cell_type": "markdown",
      "metadata": {
        "id": "view-in-github",
        "colab_type": "text"
      },
      "source": [
        "<a href=\"https://colab.research.google.com/github/laura-DGM/Colaboratory/blob/main/citron239.ipynb\" target=\"_parent\"><img src=\"https://colab.research.google.com/assets/colab-badge.svg\" alt=\"Open In Colab\"/></a>"
      ]
    },
    {
      "cell_type": "markdown",
      "metadata": {
        "id": "tw1sKWrGAVxr"
      },
      "source": [
        "citron 239\n",
        "\n",
        "por:\n",
        "* laura Alejandra Espitia Mora"
      ]
    },
    {
      "cell_type": "code",
      "metadata": {
        "id": "BNR5tDTKH-4I"
      },
      "source": [
        "#Librerías\n",
        "from   numpy import exp, array, random, dot\n",
        "import numpy as np\n",
        "import matplotlib.pyplot as plt"
      ],
      "execution_count": null,
      "outputs": []
    },
    {
      "cell_type": "markdown",
      "metadata": {
        "id": "lG9XtCvrJau0"
      },
      "source": [
        "![citron 239.jpeg](data:image/jpeg;base64,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)\n",
        "\n",
        "tablas de verdad\n",
        "\n",
        "chocolate :A   |   chocolate :B\n",
        "chocolate :C   |   chocolate :D\n",
        "\n",
        "*estados:*\n",
        "\n",
        "0:todo ok    |    1:chocolates parte superior     |    2:chocolates parte inferior     |    3:chocolates a la izquierda     |    4:chocolates a la derecha      |    5:faltan mas o dos chocolates   |    6:faltan menos de dos chocolates   |    7:no hay chocolates\n",
        "\n",
        "*   A B C D estado\n",
        "*   0 0 0 0 =  7\n",
        "*   0 0 0 1 =  5\n",
        "*   0 0 1 0 =  5\n",
        "*   0 0 1 1 =  2\n",
        "*   0 1 0 0 =  5\n",
        "*   0 1 0 1 =  4\n",
        "*   0 1 1 0 =  5\n",
        "*   0 1 1 1 =  6\n",
        "*   1 0 0 0 =  5\n",
        "*   1 0 0 1 =  5\n",
        "*   1 0 1 0 =  3\n",
        "*   1 0 1 1 =  6\n",
        "*   1 1 0 0 =  1\n",
        "*   1 1 0 1 =  6\n",
        "*   1 1 1 0 =  6\n",
        "*   1 1 1 1 =  0\n",
        "\n",
        "\n",
        "*   A B C D =  N1| N2| N3| N4\n",
        "*   0 0 0 0 =  1 | 1 | 1 | 1\n",
        "*   0 0 0 1 =  1 | 0 | 1 | 1\n",
        "*   0 0 1 0 =  1 | 0 | 1 | 1\n",
        "*   0 0 1 1 =  0 | 1 | 0 | 1\n",
        "*   0 1 0 0 =  1 | 0 | 1 | 1\n",
        "*   0 1 0 1 =  1 | 0 | 0 | 1\n",
        "*   0 1 1 0 =  1 | 0 | 1 | 1\n",
        "*   0 1 1 1 =  1 | 1 | 0 | 1\n",
        "*   1 0 0 0 =  1 | 0 | 1 | 1\n",
        "*   1 0 0 1 =  1 | 0 | 1 | 1\n",
        "*   1 0 1 0 =  0 | 1 | 1 | 1\n",
        "*   1 0 1 1 =  1 | 1 | 0 | 1\n",
        "*   1 1 0 0 =  0 | 0 | 1 | 1\n",
        "*   1 1 0 1 =  1 | 1 | 0 | 1\n",
        "*   1 1 1 0 =  1 | 1 | 0 | 1\n",
        "*   1 1 1 1 =  0 | 0 | 0 | 0\n",
        "\n",
        "\n",
        "\n",
        "\n",
        "\n",
        "\n",
        "\n",
        "\n",
        "\n",
        "\n",
        "\n"
      ]
    },
    {
      "cell_type": "code",
      "metadata": {
        "id": "-2c_lpVDIG7z"
      },
      "source": [
        "#parametros\n",
        "#Epoch:\n",
        "epochs = 2000\n",
        "#tasa de aprendizaje\n",
        "alfa   = 0.7"
      ],
      "execution_count": null,
      "outputs": []
    },
    {
      "cell_type": "code",
      "metadata": {
        "id": "WUhQxdj_KHmb"
      },
      "source": [
        "#Perceptrón\n",
        "class NeuralNetwork():\n",
        "    def __init__(self):\n",
        "        # Inicializar la semilla del generador aleatorio para que siempre de los mismos numeros\n",
        "        # cada vez que el programa corra\n",
        "        random.seed(1)\n",
        "\n",
        "        # Modelo de una sola neurona, con una conexion de salida y tres de entrada.\n",
        "        # asignamos pesos aleatorios a una matriz 4 x 1, con los valores en el rango -1 a 1\n",
        "        # y media 0.\n",
        "        self.synaptic_weights = 2 * random.random((4, 1)) -1\n",
        "        self.error_history = []\n",
        "        self.epoch_list = []\n",
        "    # La función sigmoidea, que describe una función en forma de s, es la función de activación.\n",
        "    # Nosotros hacemos pasar la suma de los pesos a través de dicha función para normalizarla entre 0 y 1 (porque eso es lo que esperamos) y así poder dar un resultado\n",
        "    def __sigmoid(self, x):\n",
        "\n",
        "        return 1 / (1 + exp(-x))\n",
        "        #return np.tanh(x)\n",
        "        #return x * (x > 0)\n",
        "\n",
        "    # La derivada de la función sigmoidea\n",
        "    # es el gradiente descendiente de la función sigmoidea\n",
        "    # Indica qué tanto \"le creemos\" a los pesos resultantes, revisar link.\n",
        "    def __sigmoid_derivative(self, x):\n",
        "        return x * (1 - x)\n",
        "        #return 1 - x**2\n",
        "        #return x > 0\n",
        "\n",
        "    # Entrenamos a la red neuronal a través de un proceso de prueba y error\n",
        "    # Ajustamos los pesos sinápticos en cada iteración\n",
        "    def train(self, training_set_inputs, training_set_outputs, number_of_training_iterations):\n",
        "        for iteration in range(number_of_training_iterations):\n",
        "            # Pasamos el conjunto de entrenamiento a través de la red neuronal (una única neurona).\n",
        "            output = self.think(training_set_inputs)\n",
        "\n",
        "            # Calculamos el error (La diferencia entre el valor que esperamos obtener realmente\n",
        "            # y la salida predicha).\n",
        "            self.error = training_set_outputs - output\n",
        "            # Multiplique el error por la entrada y de nuevo por el gradiente descendiente de la función sigmoidea.\n",
        "            # Esto significa que los pesos menos confiables se ajustan más (filtrado)\n",
        "            # Esto significa que las entradas, que son cero, no causan cambio a los pesos.\n",
        "            adjustment = dot(training_set_inputs.T, self.error * self.__sigmoid_derivative(output))\n",
        "\n",
        "\n",
        "            # Ajustar los pesos.\n",
        "            self.synaptic_weights += (adjustment*alfa)\n",
        "            self.error_history.append(np.average(np.abs(self.error)))\n",
        "            self.epoch_list.append(iteration)\n",
        "    #Proceso de aprendizaje de la red neuronal:\n",
        "    def think(self, inputs):\n",
        "        # Pasamos las entradas a través de la red neuronal (una única neurona).\n",
        "        return self.__sigmoid(dot(inputs, self.synaptic_weights))\n",
        "    def nor(self,inputs,training_set_outputs):\n",
        "\n",
        "        Y=(self.think(inputs)-min(training_set_outputs  ))*(1 - 0)/(max(training_set_outputs)-min(training_set_outputs));\n",
        "        #Y=(self.think(inputs)-min(training_set_outputs  ))*(-1 - 0)/(max(training_set_outputs)-min(training_set_outputs))\n",
        "        #Y=(self.think(inputs)-min(training_set_outputs  ))*(6.28 - 0)/(max(training_set_outputs)-min(training_set_outputs))\n",
        "        if Y <0.5:\n",
        "          Y=0\n",
        "        else:\n",
        "          Y=1\n",
        "        return Y\n",
        ""
      ],
      "execution_count": null,
      "outputs": []
    },
    {
      "cell_type": "code",
      "metadata": {
        "id": "m9op0wM_aIoF"
      },
      "source": [
        "#Perceptrón\n",
        "class NeuralNetwork_1():\n",
        "    def __init__(self):\n",
        "        # Inicializar la semilla del generador aleatorio para que siempre de los mismos numeros\n",
        "        # cada vez que el programa corra\n",
        "        random.seed(1)\n",
        "\n",
        "        # Modelo de una sola neurona, con una conexion de salida y tres de entrada.\n",
        "        # asignamos pesos aleatorios a una matriz 3 x 1, con los valores en el rango -1 a 1\n",
        "        # y media 0.\n",
        "        self.synaptic_weights = 2 * random.random((3, 1)) -1\n",
        "        self.error_history = []\n",
        "        self.epoch_list = []\n",
        "    # La función sigmoidea, que describe una función en forma de s, es la función de activación.\n",
        "    # Nosotros hacemos pasar la suma de los pesos a través de dicha función para normalizarla entre 0 y 1 (porque eso es lo que esperamos) y así poder dar un resultado\n",
        "    def __sigmoid(self, x):\n",
        "\n",
        "        return 1 / (1 + exp(-x))\n",
        "\n",
        "\n",
        "    # La derivada de la función sigmoidea\n",
        "    # es el gradiente descendiente de la función sigmoidea\n",
        "    # Indica qué tanto \"le creemos\" a los pesos resultantes, revisar link.\n",
        "    def __sigmoid_derivative(self, x):\n",
        "        return x * (1 - x)\n",
        "\n",
        "\n",
        "    # Entrenamos a la red neuronal a través de un proceso de prueba y error\n",
        "    # Ajustamos los pesos sinápticos en cada iteración\n",
        "    def train(self, training_set_inputs, training_set_outputs, number_of_training_iterations):\n",
        "        for iteration in range(number_of_training_iterations):\n",
        "            # Pasamos el conjunto de entrenamiento a través de la red neuronal (una única neurona).\n",
        "            output = self.think(training_set_inputs)\n",
        "\n",
        "            # Calculamos el error (La diferencia entre el valor que esperamos obtener realmente\n",
        "            # y la salida predicha).\n",
        "            self.error = training_set_outputs - output\n",
        "            # Multiplique el error por la entrada y de nuevo por el gradiente descendiente de la función sigmoidea.\n",
        "            # Esto significa que los pesos menos confiables se ajustan más (filtrado)\n",
        "            # Esto significa que las entradas, que son cero, no causan cambio a los pesos.\n",
        "            adjustment = dot(training_set_inputs.T, self.error * self.__sigmoid_derivative(output))\n",
        "\n",
        "\n",
        "            # Ajustar los pesos.\n",
        "            self.synaptic_weights += (adjustment*alfa)\n",
        "            self.error_history.append(np.average(np.abs(self.error)))\n",
        "            self.epoch_list.append(iteration)\n",
        "    #Proceso de aprendizaje de la red neuronal:\n",
        "    def think(self, inputs):\n",
        "        # Pasamos las entradas a través de la red neuronal (una única neurona).\n",
        "        return self.__sigmoid(dot(inputs, self.synaptic_weights))\n",
        "    def nor(self,inputs,training_set_outputs):\n",
        "\n",
        "        Y=(self.think(inputs)-min(training_set_outputs  ))*(1 - 0)/(max(training_set_outputs)-min(training_set_outputs));\n",
        "        if Y <=0.5:\n",
        "          Y=0\n",
        "        else:\n",
        "          Y=1\n",
        "        return Y"
      ],
      "execution_count": null,
      "outputs": []
    },
    {
      "cell_type": "code",
      "metadata": {
        "id": "QFF2bZGWUFe6",
        "colab": {
          "base_uri": "https://localhost:8080/",
          "height": 755
        },
        "outputId": "a624091c-1cbe-4509-dc27-0569a5a8382a"
      },
      "source": [
        "#Clase principal\n",
        "if __name__ == \"__main__\":\n",
        "\n",
        "    neural_network_1 = NeuralNetwork()\n",
        "    neural_network_2 = NeuralNetwork()\n",
        "    neural_network_3 = NeuralNetwork()\n",
        "    neural_network_4 = NeuralNetwork_1()\n",
        "    print (\"Pesos sinapticos iniciales generados aleatoriamente: \")\n",
        "    print (neural_network_4.synaptic_weights)\n",
        "\n",
        "\n",
        "    training_set_inputs = array([[0,0,1,1],[0,1,0,1],[0,1,1,1],[1,0,0,1],[1,0,1,0],[1,1,0,0],[1,0,0,1],[1,1,1,1]])\n",
        "    training_set_outputs_1 = array([[ 0, 1, 1, 1, 0, 0, 1, 0]]).T\n",
        "    training_set_outputs_2 = array([[ 1, 0, 1, 0, 1, 0, 0, 0]]).T\n",
        "    training_set_outputs_3 = array([[ 0, 0, 0, 1, 1, 1, 1, 0]]).T\n",
        "\n",
        "    training_set_inputs_1 = array([[1,1,1],[0,0,0],[0,0,1],[0,1,0]])\n",
        "    training_set_outputs_4 = array([[1,0,1,1]]).T\n",
        "\n",
        "    neural_network_1.train(training_set_inputs, training_set_outputs_1, epochs)\n",
        "    neural_network_2.train(training_set_inputs, training_set_outputs_2, epochs)\n",
        "    neural_network_3.train(training_set_inputs, training_set_outputs_3, epochs)\n",
        "    neural_network_4.train(training_set_inputs_1, training_set_outputs_4, epochs)\n",
        "    print (\"Nuevos pesos sinapticos después del entremaniento: \")\n",
        "    print (neural_network_4.synaptic_weights)\n",
        "\n",
        "    test = array([0,0,0,0])\n",
        "    print (\"Considerando las entradas: \")\n",
        "    print (test)\n",
        "    print (\"---------------------------\")\n",
        "    print (neural_network_1.think(test),neural_network_2.think(test),neural_network_3.think(test))\n",
        "  #print (neural_network_1.nor(test,training_set_outputs_1),neural_network_2.nor(test,training_set_outputs_2),neural_network_3.nor(test,training_set_outputs_3))\n",
        "    a=neural_network_1.nor(test,training_set_outputs_1)\n",
        "    b=neural_network_2.nor(test,training_set_outputs_2)\n",
        "    c=neural_network_3.nor(test,training_set_outputs_3)\n",
        "\n",
        "\n",
        "    test_1=array([a,b,c])\n",
        "    print (\"Considerando las entradas: \")\n",
        "    print (test_1)\n",
        "    print (\"la salida es: \")\n",
        "    print (neural_network_4.nor(test_1,training_set_outputs_4))\n",
        "    print (\"---------------------------\")\n",
        "    plt.figure(1)\n",
        "    plt.subplot(411)\n",
        "    plt.title('neurona 1 ')\n",
        "    plt.plot(neural_network_1.epoch_list, neural_network_1.error_history)\n",
        "    plt.xlabel('Epoch')\n",
        "    plt.ylabel('Error')\n",
        "\n",
        "    plt.figure(2)\n",
        "    plt.subplot(412)\n",
        "    plt.title('neurona 2 ')\n",
        "    plt.plot(neural_network_2.epoch_list, neural_network_2.error_history)\n",
        "    plt.xlabel('Epoch')\n",
        "    plt.ylabel('Error')\n",
        "\n",
        "    plt.figure(3)\n",
        "    plt.subplot(413)\n",
        "    plt.title('neurona 3 ')\n",
        "    plt.plot(neural_network_3.epoch_list, neural_network_3.error_history)\n",
        "    plt.xlabel('Epoch')\n",
        "    plt.ylabel('Error')\n",
        "\n",
        "    plt.figure(4)\n",
        "    plt.subplot(414)\n",
        "    plt.title('neurona de salida')\n",
        "    plt.plot(neural_network_4.epoch_list, neural_network_4.error_history)\n",
        "    plt.xlabel('Epoch')\n",
        "    plt.ylabel('Error')\n",
        "    plt.show()\n",
        "    print ('Iterations:', epochs,'Learning rate:', alfa)"
      ],
      "execution_count": null,
      "outputs": [
        {
          "output_type": "stream",
          "text": [
            "Pesos sinapticos iniciales generados aleatoriamente: \n",
            "[[-0.16595599]\n",
            " [ 0.44064899]\n",
            " [-0.99977125]]\n",
            "Nuevos pesos sinapticos después del entremaniento: \n",
            "[[0.37919664]\n",
            " [3.91527604]\n",
            " [3.90889727]]\n",
            "Considerando las entradas: \n",
            "[0 0 0 0]\n",
            "---------------------------\n",
            "[0.5] [0.5] [0.5]\n",
            "Considerando las entradas: \n",
            "[1 1 1]\n",
            "la salida es: \n",
            "1\n",
            "---------------------------\n"
          ],
          "name": "stdout"
        },
        {
          "output_type": "display_data",
          "data": {
            "image/png": "[encoded data removed]",
            "text/plain": [
              "<Figure size 432x288 with 1 Axes>"
            ]
          },
          "metadata": {
            "tags": [],
            "needs_background": "light"
          }
        },
        {
          "output_type": "display_data",
          "data": {
            "image/png": "[encoded data removed]",
            "text/plain": [
              "<Figure size 432x288 with 1 Axes>"
            ]
          },
          "metadata": {
            "tags": [],
            "needs_background": "light"
          }
        },
        {
          "output_type": "display_data",
          "data": {
            "image/png": "[encoded data removed]",
            "text/plain": [
              "<Figure size 432x288 with 1 Axes>"
            ]
          },
          "metadata": {
            "tags": [],
            "needs_background": "light"
          }
        },
        {
          "output_type": "display_data",
          "data": {
            "image/png": "[encoded data removed]",
            "text/plain": [
              "<Figure size 432x288 with 1 Axes>"
            ]
          },
          "metadata": {
            "tags": [],
            "needs_background": "light"
          }
        },
        {
          "output_type": "stream",
          "text": [
            "Iterations: 2000 Learning rate: 0.7\n"
          ],
          "name": "stdout"
        }
      ]
    },
    {
      "cell_type": "markdown",
      "metadata": {
        "id": "HddSo3T7TeJ6"
      },
      "source": [
        "\n",
        "\n"
      ]
    },
    {
      "cell_type": "markdown",
      "metadata": {
        "id": "Doz6V4HAgNWO"
      },
      "source": [
        "prueba de neuronas principales\n",
        "\n",
        "\n",
        "*  [0.5]        [0.5]        [0.5]            1 1 1|111+\n",
        "*  [0.99934567] [0.10488274] [0.06320346]     1 0 0|101\n",
        "*  [0.00014766] [0.99914935] [0.04448246]     0 1 0|101\n",
        "*  [0.18403783] [0.99278636] [0.00313101]     0 1 0|010+\n",
        "*  [0.95906261] [0.0704251]  [0.04463953]     1 0 0|101\n",
        "*  [0.99997205] [0.00879891] [0.00314254]     1 0 0|100+\n",
        "*  [0.00344784] [0.98888713] [0.0021705]      0 1 0|101\n",
        "*  [0.84086603] [0.91248523] [0.00014674]     1 1 0|110+\n",
        "*  [0.00690944] [0.01008128] [0.99772723]     0 0 1|101\n",
        "*  [0.91398624] [0.00119185] [0.96733917]     1 0 1|101+\n",
        "*  [1.02748039e-06] [0.92284971] [0.95335055] 0 1 1|011+\n",
        "*  [0.00156679] [0.58360724] [0.57962019]     0 1 1|110\n",
        "*  [0.14015298] [0.00077095] [0.95351435]     0 0 1|001+\n",
        "*  [0.99599908] [9.03949296e-05] [0.58051886] 1 0 1|110\n",
        "*  [2.40707909e-05] [0.47540324] [0.48846521] 0 1 1|110\n",
        "*  [0.03545998] [0.09599157] [0.06052559]     0 0 0|000+\n",
        "\n",
        "Nota: si se sobre entrenan los perceptrones con los mismos datos de entrenamiento los datos de salidad disminuitan o aumentaran dependiendo si la salida es un 0 o un 1\n",
        "* cuando el perceptron en sus datos entrenamiento de salida tienen un cero se disminuye los valores del aptendizaje y cuando es uno el valor aumenta\n",
        "* por la condicion anterior, si el perceptron es entrenado con las 16 posibilidades del ejercicio los valores de salida seran menos exactos que si se usa solo el 50% de los datos\n",
        "* esta neurona no es muy buena para el aprendizaje ya que como se observa en la prueba de aprendizaje principal,normalizar el aprendizaje es complicado ya que algunos valores en 0 son mas altos o mas pequeños del valor estandas y lo mismo pasa con los valores para una salida en 1\n",
        "* aunque para la neurona 4 de salida si funciona muy bien el perceptron\n",
        "* al probar otras funciones de aprendizaje sucedia el mis problema de la dificultad de cuadrar la normalizacion del perceptron, sumandole a esto el ajuste de las iteraciones y las epocas."
      ]
    }
  ]
}